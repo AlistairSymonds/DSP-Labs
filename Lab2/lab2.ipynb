{
 "cells": [
  {
   "cell_type": "markdown",
   "metadata": {},
   "source": [
    "## ELEC3305 Lab 2 -  DTFT <br> <small> Python Lab 2 </small>"
   ]
  },
  {
   "cell_type": "markdown",
   "metadata": {},
   "source": [
    "### DTFT:"
   ]
  },
  {
   "cell_type": "markdown",
   "metadata": {},
   "source": [
    "In this part of the lab, we will look at the DTFT of rectangular windows and triangular windows and compare their performances as low-pass filters. There is a code template provided for each part to help you become familiar with numpy syntax."
   ]
  },
  {
   "cell_type": "markdown",
   "metadata": {},
   "source": [
    "### Part (a):"
   ]
  },
  {
   "cell_type": "code",
   "execution_count": 4,
   "metadata": {
    "collapsed": true
   },
   "outputs": [],
   "source": [
    "#Import libraries\n",
    "import numpy as np\n",
    "import matplotlib.pyplot as plt\n",
    "from __future__ import division\n",
    "%matplotlib inline"
   ]
  },
  {
   "cell_type": "markdown",
   "metadata": {},
   "source": [
    "Plot the DTFT (at least 512 points) of the rectangular window:\n",
    "\n",
    "<center>$$ w[n] = \\left \\{ \\begin{array}{cc} 1 & -N \\leq n \\leq N \\\\ 0 & \\mathrm{otherwise} \\end{array} \\right. $$ </center>\n",
    "\t\t\t\t\n",
    "for $ N=5,~20,~100$. Scale the DTFT so that $W(e^{j0})=1$ in your plots. Label your plots! \n",
    "\n",
    "Describe the effect of increasing $N$ on the DTFT.\n",
    "\n",
    "A code template is provided for each part"
   ]
  },
  {
   "cell_type": "markdown",
   "metadata": {},
   "source": [
    "### Solution for (a):"
   ]
  },
  {
   "cell_type": "code",
   "execution_count": 12,
   "metadata": {},
   "outputs": [
    {
     "data": {
      "image/png": "[encoded data removed]",
      "text/plain": [
       "<matplotlib.figure.Figure at 0x12355f0a0b8>"
      ]
     },
     "metadata": {},
     "output_type": "display_data"
    }
   ],
   "source": [
    "    M = 1024 \n",
    "    #repeat for N = 5, 20, 100\n",
    "    for N in [5]:  \n",
    "    \n",
    "        # create 2N+1-point temporal indices (NN) from -N to N using np.r_\n",
    "        NN = np.r_[-N:N]\n",
    "\n",
    "        # create window function (w) using np.ones\n",
    "        window = np.ones(M)\n",
    "        \n",
    "        # create M-point frequency indices (Omega) from -pi to pi (use np.pi)\n",
    "        omega = np.linspace(-np.pi,np.pi,M)\n",
    "        \n",
    "        \n",
    "        # create matrix of appropriate temporal indices (n) and frequency indices (omega) using np.outer\n",
    "        indices = np.outer(NN,omega)\n",
    "        \n",
    "        \n",
    "        # create DTFT matrix using np.exp\n",
    "        W = np.exp(indices)\n",
    "        \n",
    "        # evaluate DTFT using dot function\n",
    "        dtft = W.dot(M)\n",
    "         \n",
    "        # normalize W such that W at omega=0 is 1\n",
    "        dtft = (1/np.sqrt(N)) * dtft;\n",
    "        \n",
    "        \n",
    "        # create plots\n",
    "        # plot both real and imag on the same figure using subplots ( use W.real and W.imag )\n",
    "        # add titles\n",
    "        fig, axes = plt.subplots(nrows=1, ncols=2)\n",
    "        axes[0].plot(dtft.real)\n",
    "        axes[1].plot(dtft.imag)\n",
    "\n",
    "        \n",
    "        "
   ]
  },
  {
   "cell_type": "markdown",
   "metadata": {},
   "source": [
    "Describe the effect of increasing $N$ on the DTFT:\n",
    "\n",
    "\n",
    "\n",
    "----"
   ]
  },
  {
   "cell_type": "markdown",
   "metadata": {},
   "source": [
    "### Part (b):"
   ]
  },
  {
   "cell_type": "markdown",
   "metadata": {},
   "source": [
    "Repeat part (a) for the triangular window:\n",
    "$$w_\\triangle [n] =  \\left ( 1- \\frac{|n|}{N} \\right ) w[n].$$"
   ]
  },
  {
   "cell_type": "markdown",
   "metadata": {},
   "source": [
    "### Solution for (b):"
   ]
  },
  {
   "cell_type": "code",
   "execution_count": null,
   "metadata": {
    "collapsed": true
   },
   "outputs": [],
   "source": [
    "    M = 1024\n",
    "    #repeat for N = 5, 20, 100\n",
    "    for N in [5, 20, 100]:  \n",
    "    \n",
    "        # create 2N+1-point temporal indices (NN) from -N to N using np.r_\n",
    "        ### FILL IN ###\n",
    "        \n",
    "        # create window function (w) \n",
    "        ### FILL IN ###\n",
    "        \n",
    "        \n",
    "        # create 512-point frequency indices (Omega) from -pi to pi (use np.pi)\n",
    "        ### FILL IN ###\n",
    "        \n",
    "        \n",
    "        # create matrix of appropriate temporal indices (n) and frequency indices (omega) using np.outer\n",
    "        ### FILL IN ###\n",
    "       \n",
    "        \n",
    "        # create DTFT matrix using np.exp\n",
    "        \n",
    "        \n",
    "        # evaluate DTFT using dot function\n",
    "        \n",
    "         \n",
    "        # normalize W such that W at omega=0 is 1\n",
    "        ### FILL IN ###\n",
    "        \n",
    "        \n",
    "        # create plots\n",
    "        # plot both real and imag on the same figure using subplots ( use W.real and W.imag )\n",
    "        # add titles\n",
    "        ### FILL IN ###\n",
    "      \n",
    "\n",
    "        "
   ]
  },
  {
   "cell_type": "markdown",
   "metadata": {},
   "source": [
    "Describe the effect of increasing $N$ on the DTFT:\n",
    "\n",
    "\n",
    "----"
   ]
  },
  {
   "cell_type": "markdown",
   "metadata": {},
   "source": [
    "### Part (c):"
   ]
  },
  {
   "cell_type": "markdown",
   "metadata": {},
   "source": [
    "Consider the ideal low-pass filter with cut-off frequency $\\omega_c = 0.3 \\pi$. Truncate the impulse response of this filter using the windows in parts (a) and (b), and plot the frequency response of the resulting filters. Explain the differences.\n"
   ]
  },
  {
   "cell_type": "markdown",
   "metadata": {},
   "source": [
    "### Solution for (c):"
   ]
  },
  {
   "cell_type": "code",
   "execution_count": null,
   "metadata": {
    "collapsed": true
   },
   "outputs": [],
   "source": [
    "    M = 1024\n",
    "    Omegac = 0.3\n",
    "    #repeat for N = 5, 20, 100\n",
    "    for N in [5, 20, 100]:  \n",
    "    \n",
    "        # create 2N+1-point temporal indices (NN) from -N to N using np.r_\n",
    "        ### FILL IN ###\n",
    "        \n",
    "        \n",
    "        # create window function (w)\n",
    "        ### FILL IN ###\n",
    "\n",
    "  \n",
    "        # create 512-point frequency indices (Omega) from -pi to pi (use np.pi)\n",
    "        ### FILL IN ###\n",
    "        \n",
    "        \n",
    "        # create matrix of appropriate temporal indices (n) and frequency indices (omega) using np.outer\n",
    "        ### FILL IN ###\n",
    "        \n",
    "        \n",
    "        # create DTFT matrix using np.exp\n",
    "        \n",
    "        \n",
    "        # evaluate DTFT using dot function\n",
    "        \n",
    "         \n",
    "        # normalize W such that W at omega=0 is 1\n",
    "        ### FILL IN ###\n",
    "        \n",
    "        \n",
    "        # create plots\n",
    "        # plot both real and imag on the same figure ( use W.real and W.imag )\n",
    "        # add titles\n",
    "        ### FILL IN ###\n",
    " \n",
    "\n",
    "        "
   ]
  },
  {
   "cell_type": "code",
   "execution_count": null,
   "metadata": {
    "collapsed": true
   },
   "outputs": [],
   "source": [
    "    M = 1024\n",
    "    Omegac = 0.3\n",
    "    #repeat for N = 5, 20, 100\n",
    "    for N in [5, 20, 100]:  \n",
    "    \n",
    "        # create 2N+1-point temporal indices (NN) from -N to N using np.r_\n",
    "        ### FILL IN ###\n",
    "        \n",
    "        \n",
    "        # create window function (w)\n",
    "        ### FILL IN ###\n",
    "\n",
    "  \n",
    "        # create 512-point frequency indices (Omega) from -pi to pi (use np.pi)\n",
    "        ### FILL IN ###\n",
    "        \n",
    "        \n",
    "        # create matrix of appropriate temporal indices (n) and frequency indices (omega) using np.outer\n",
    "        ### FILL IN ###\n",
    "        \n",
    "        \n",
    "        # create DTFT matrix using np.exp\n",
    "        \n",
    "        \n",
    "        # evaluate DTFT using dot function\n",
    "        \n",
    "         \n",
    "        # normalize W such that W at omega=0 is 1\n",
    "        ### FILL IN ###\n",
    "        \n",
    "        \n",
    "        # create plots\n",
    "        # plot both real and imag on the same figure ( use W.real and W.imag )\n",
    "        ### FILL IN ###\n",
    " \n",
    "        # label plots and put title and legends ( use plt.xlabel, plt.title, plt.legend )\n",
    "        ### FILL IN ###\n",
    "        "
   ]
  }
 ],
 "metadata": {
  "kernelspec": {
   "display_name": "Python 3",
   "language": "python",
   "name": "python3"
  },
  "language_info": {
   "codemirror_mode": {
    "name": "ipython",
    "version": 3
   },
   "file_extension": ".py",
   "mimetype": "text/x-python",
   "name": "python",
   "nbconvert_exporter": "python",
   "pygments_lexer": "ipython3",
   "version": "3.6.1"
  },
  "varInspector": {
   "cols": {
    "lenName": 16,
    "lenType": 16,
    "lenVar": 40
   },
   "kernels_config": {
    "python": {
     "delete_cmd_postfix": "",
     "delete_cmd_prefix": "del ",
     "library": "var_list.py",
     "varRefreshCmd": "print(var_dic_list())"
    },
    "r": {
     "delete_cmd_postfix": ") ",
     "delete_cmd_prefix": "rm(",
     "library": "var_list.r",
     "varRefreshCmd": "cat(var_dic_list()) "
    }
   },
   "position": {
    "height": "326px",
    "left": "866px",
    "right": "20px",
    "top": "283px",
    "width": "453px"
   },
   "types_to_exclude": [
    "module",
    "function",
    "builtin_function_or_method",
    "instance",
    "_Feature"
   ],
   "window_display": true
  }
 },
 "nbformat": 4,
 "nbformat_minor": 1
}
