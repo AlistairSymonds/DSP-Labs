{
 "cells": [
  {
   "cell_type": "markdown",
   "metadata": {},
   "source": [
    "## ELEC3305 Lab 2 -  DTFT <br> <small> Python Lab 2 </small>"
   ]
  },
  {
   "cell_type": "markdown",
   "metadata": {},
   "source": [
    "### DTFT:"
   ]
  },
  {
   "cell_type": "markdown",
   "metadata": {},
   "source": [
    "In this part of the lab, we will look at the DTFT of rectangular windows and triangular windows and compare their performances as low-pass filters. There is a code template provided for each part to help you become familiar with numpy syntax."
   ]
  },
  {
   "cell_type": "markdown",
   "metadata": {},
   "source": [
    "### Part (a):"
   ]
  },
  {
   "cell_type": "code",
   "execution_count": 2,
   "metadata": {
    "collapsed": true
   },
   "outputs": [],
   "source": [
    "#Import libraries\n",
    "import numpy as np\n",
    "import matplotlib.pyplot as plt\n",
    "from __future__ import division\n",
    "%matplotlib inline"
   ]
  },
  {
   "cell_type": "markdown",
   "metadata": {},
   "source": [
    "Plot the DTFT (at least 512 points) of the rectangular window:\n",
    "\n",
    "<center>$$ w[n] = \\left \\{ \\begin{array}{cc} 1 & -N \\leq n \\leq N \\\\ 0 & \\mathrm{otherwise} \\end{array} \\right. $$ </center>\n",
    "\t\t\t\t\n",
    "for $ N=5,~20,~100$. Scale the DTFT so that $W(e^{j0})=1$ in your plots. Label your plots! \n",
    "\n",
    "Describe the effect of increasing $N$ on the DTFT.\n",
    "\n",
    "A code template is provided for each part"
   ]
  },
  {
   "cell_type": "markdown",
   "metadata": {},
   "source": [
    "### Solution for (a):"
   ]
  },
  {
   "cell_type": "code",
   "execution_count": 10,
   "metadata": {},
   "outputs": [
    {
     "name": "stderr",
     "output_type": "stream",
     "text": [
      "C:\\ProgramData\\Anaconda3\\lib\\site-packages\\ipykernel_launcher.py:30: RuntimeWarning: invalid value encountered in sqrt\n",
      "C:\\ProgramData\\Anaconda3\\lib\\site-packages\\ipykernel_launcher.py:30: RuntimeWarning: divide by zero encountered in true_divide\n"
     ]
    },
    {
     "ename": "ValueError",
     "evalue": "operands could not be broadcast together with shapes (10,) (10,1024) ",
     "output_type": "error",
     "traceback": [
      "\u001b[1;31m---------------------------------------------------------------------------\u001b[0m",
      "\u001b[1;31mValueError\u001b[0m                                Traceback (most recent call last)",
      "\u001b[1;32m<ipython-input-10-ae8048044f08>\u001b[0m in \u001b[0;36m<module>\u001b[1;34m()\u001b[0m\n\u001b[0;32m     28\u001b[0m \u001b[1;33m\u001b[0m\u001b[0m\n\u001b[0;32m     29\u001b[0m     \u001b[1;31m# normalize W such that W at omega=0 is 1\u001b[0m\u001b[1;33m\u001b[0m\u001b[1;33m\u001b[0m\u001b[0m\n\u001b[1;32m---> 30\u001b[1;33m     \u001b[0mW\u001b[0m \u001b[1;33m=\u001b[0m \u001b[1;33m(\u001b[0m\u001b[1;36m1\u001b[0m\u001b[1;33m/\u001b[0m\u001b[0mnp\u001b[0m\u001b[1;33m.\u001b[0m\u001b[0msqrt\u001b[0m\u001b[1;33m(\u001b[0m\u001b[0mn\u001b[0m\u001b[1;33m)\u001b[0m\u001b[1;33m)\u001b[0m \u001b[1;33m*\u001b[0m \u001b[0mW\u001b[0m\u001b[1;33m;\u001b[0m\u001b[1;33m\u001b[0m\u001b[0m\n\u001b[0m\u001b[0;32m     31\u001b[0m \u001b[1;33m\u001b[0m\u001b[0m\n\u001b[0;32m     32\u001b[0m \u001b[1;33m\u001b[0m\u001b[0m\n",
      "\u001b[1;31mValueError\u001b[0m: operands could not be broadcast together with shapes (10,) (10,1024) "
     ]
    }
   ],
   "source": [
    "    # https://stackoverflow.com/questions/19739503/dft-matrix-in-python\n",
    "    # http://python-for-signal-processing.blogspot.com.au/2013/02/discrete-fourier-transform.html\n",
    "    # https://www.ee.iitb.ac.in/~bsraj/courses/ee603/lectnotes4.pdf\n",
    "    \n",
    "    M = 1024 \n",
    "    #repeat for N = 5, 20, 100\n",
    "    for N in [5, 20, 100]:  \n",
    "    \n",
    "        # create 2N+1-point temporal indices (NN) from -N to N using np.r_\n",
    "        n = np.r_[-N:N]\n",
    "\n",
    "        # create window function (w) using np.ones\n",
    "        window = np.ones(M)\n",
    "        \n",
    "        # create M-point frequency indices (Omega) from -pi to pi (use np.pi)\n",
    "        omega = np.linspace(-np.pi,np.pi,M)\n",
    "        \n",
    "        \n",
    "        # create matrix of appropriate temporal indices (n) and frequency indices (omega) using np.outer\n",
    "        indices = np.outer(n,omega)\n",
    "        \n",
    "        \n",
    "        # create DTFT matrix using np.exp\n",
    "        dtftMat = np.exp(1j* 2*np.pi/N * indices)\n",
    "        \n",
    "        # evaluate DTFT using dot function\n",
    "        W = dtftMat.dot(M)\n",
    "         \n",
    "        # normalize W such that W at omega=0 is 1\n",
    "        W = (1/np.sqrt(N)) * W;\n",
    "        \n",
    "        \n",
    "        # create plots\n",
    "        # plot both real and imag on the same figure using subplots ( use W.real and W.imag )\n",
    "        # add titles\n",
    "        fig, axes = plt.subplots(nrows=1, ncols=2)\n",
    "        axes[0].plot(W.real)\n",
    "        axes[1].plot(W.imag)\n",
    "\n",
    "        \n",
    "        "
   ]
  },
  {
   "cell_type": "markdown",
   "metadata": {},
   "source": [
    "Describe the effect of increasing $N$ on the DTFT:\n",
    "\n",
    "\n",
    "\n",
    "----"
   ]
  },
  {
   "cell_type": "markdown",
   "metadata": {},
   "source": [
    "### Part (b):"
   ]
  },
  {
   "cell_type": "markdown",
   "metadata": {},
   "source": [
    "Repeat part (a) for the triangular window:\n",
    "$$w_\\triangle [n] =  \\left ( 1- \\frac{|n|}{N} \\right ) w[n].$$"
   ]
  },
  {
   "cell_type": "markdown",
   "metadata": {},
   "source": [
    "### Solution for (b):"
   ]
  },
  {
   "cell_type": "code",
   "execution_count": null,
   "metadata": {
    "collapsed": true
   },
   "outputs": [],
   "source": [
    "    M = 1024\n",
    "    #repeat for N = 5, 20, 100\n",
    "    for N in [5, 20, 100]:  \n",
    "    \n",
    "        # create 2N+1-point temporal indices (NN) from -N to N using np.r_\n",
    "        ### FILL IN ###\n",
    "        \n",
    "        # create window function (w) \n",
    "        ### FILL IN ###\n",
    "        \n",
    "        \n",
    "        # create 512-point frequency indices (Omega) from -pi to pi (use np.pi)\n",
    "        ### FILL IN ###\n",
    "        \n",
    "        \n",
    "        # create matrix of appropriate temporal indices (n) and frequency indices (omega) using np.outer\n",
    "        ### FILL IN ###\n",
    "       \n",
    "        \n",
    "        # create DTFT matrix using np.exp\n",
    "        \n",
    "        \n",
    "        # evaluate DTFT using dot function\n",
    "        \n",
    "         \n",
    "        # normalize W such that W at omega=0 is 1\n",
    "        ### FILL IN ###\n",
    "        \n",
    "        \n",
    "        # create plots\n",
    "        # plot both real and imag on the same figure using subplots ( use W.real and W.imag )\n",
    "        # add titles\n",
    "        ### FILL IN ###\n",
    "      \n",
    "\n",
    "        "
   ]
  },
  {
   "cell_type": "markdown",
   "metadata": {},
   "source": [
    "Describe the effect of increasing $N$ on the DTFT:\n",
    "\n",
    "\n",
    "----"
   ]
  },
  {
   "cell_type": "markdown",
   "metadata": {},
   "source": [
    "### Part (c):"
   ]
  },
  {
   "cell_type": "markdown",
   "metadata": {},
   "source": [
    "Consider the ideal low-pass filter with cut-off frequency $\\omega_c = 0.3 \\pi$. Truncate the impulse response of this filter using the windows in parts (a) and (b), and plot the frequency response of the resulting filters. Explain the differences.\n"
   ]
  },
  {
   "cell_type": "markdown",
   "metadata": {},
   "source": [
    "### Solution for (c):"
   ]
  },
  {
   "cell_type": "code",
   "execution_count": null,
   "metadata": {
    "collapsed": true
   },
   "outputs": [],
   "source": [
    "    M = 1024\n",
    "    Omegac = 0.3\n",
    "    #repeat for N = 5, 20, 100\n",
    "    for N in [5, 20, 100]:  \n",
    "    \n",
    "        # create 2N+1-point temporal indices (NN) from -N to N using np.r_\n",
    "        ### FILL IN ###\n",
    "        \n",
    "        \n",
    "        # create window function (w)\n",
    "        ### FILL IN ###\n",
    "\n",
    "  \n",
    "        # create 512-point frequency indices (Omega) from -pi to pi (use np.pi)\n",
    "        ### FILL IN ###\n",
    "        \n",
    "        \n",
    "        # create matrix of appropriate temporal indices (n) and frequency indices (omega) using np.outer\n",
    "        ### FILL IN ###\n",
    "        \n",
    "        \n",
    "        # create DTFT matrix using np.exp\n",
    "        \n",
    "        \n",
    "        # evaluate DTFT using dot function\n",
    "        \n",
    "         \n",
    "        # normalize W such that W at omega=0 is 1\n",
    "        ### FILL IN ###\n",
    "        \n",
    "        \n",
    "        # create plots\n",
    "        # plot both real and imag on the same figure ( use W.real and W.imag )\n",
    "        # add titles\n",
    "        ### FILL IN ###\n",
    " \n",
    "\n",
    "        "
   ]
  },
  {
   "cell_type": "code",
   "execution_count": null,
   "metadata": {
    "collapsed": true
   },
   "outputs": [],
   "source": [
    "    M = 1024\n",
    "    Omegac = 0.3\n",
    "    #repeat for N = 5, 20, 100\n",
    "    for N in [5, 20, 100]:  \n",
    "    \n",
    "        # create 2N+1-point temporal indices (NN) from -N to N using np.r_\n",
    "        ### FILL IN ###\n",
    "        \n",
    "        \n",
    "        # create window function (w)\n",
    "        ### FILL IN ###\n",
    "\n",
    "  \n",
    "        # create 512-point frequency indices (Omega) from -pi to pi (use np.pi)\n",
    "        ### FILL IN ###\n",
    "        \n",
    "        \n",
    "        # create matrix of appropriate temporal indices (n) and frequency indices (omega) using np.outer\n",
    "        ### FILL IN ###\n",
    "        \n",
    "        \n",
    "        # create DTFT matrix using np.exp\n",
    "        \n",
    "        \n",
    "        # evaluate DTFT using dot function\n",
    "        \n",
    "         \n",
    "        # normalize W such that W at omega=0 is 1\n",
    "        ### FILL IN ###\n",
    "        \n",
    "        \n",
    "        # create plots\n",
    "        # plot both real and imag on the same figure ( use W.real and W.imag )\n",
    "        ### FILL IN ###\n",
    " \n",
    "        # label plots and put title and legends ( use plt.xlabel, plt.title, plt.legend )\n",
    "        ### FILL IN ###\n",
    "        "
   ]
  }
 ],
 "metadata": {
  "kernelspec": {
   "display_name": "Python 3",
   "language": "python",
   "name": "python3"
  },
  "language_info": {
   "codemirror_mode": {
    "name": "ipython",
    "version": 3
   },
   "file_extension": ".py",
   "mimetype": "text/x-python",
   "name": "python",
   "nbconvert_exporter": "python",
   "pygments_lexer": "ipython3",
   "version": "3.6.1"
  },
  "varInspector": {
   "cols": {
    "lenName": 16,
    "lenType": 16,
    "lenVar": 40
   },
   "kernels_config": {
    "python": {
     "delete_cmd_postfix": "",
     "delete_cmd_prefix": "del ",
     "library": "var_list.py",
     "varRefreshCmd": "print(var_dic_list())"
    },
    "r": {
     "delete_cmd_postfix": ") ",
     "delete_cmd_prefix": "rm(",
     "library": "var_list.r",
     "varRefreshCmd": "cat(var_dic_list()) "
    }
   },
   "position": {
    "height": "326px",
    "left": "1030px",
    "right": "20px",
    "top": "200px",
    "width": "453px"
   },
   "types_to_exclude": [
    "module",
    "function",
    "builtin_function_or_method",
    "instance",
    "_Feature"
   ],
   "window_display": true
  }
 },
 "nbformat": 4,
 "nbformat_minor": 1
}
