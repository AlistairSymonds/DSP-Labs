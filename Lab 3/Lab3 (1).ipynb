{
 "cells": [
  {
   "cell_type": "markdown",
   "metadata": {},
   "source": [
    "Load in basic libraries."
   ]
  },
  {
   "cell_type": "code",
   "execution_count": 1,
   "metadata": {},
   "outputs": [
    {
     "ename": "ModuleNotFoundError",
     "evalue": "No module named 'Queue'",
     "output_type": "error",
     "traceback": [
      "\u001b[1;31m---------------------------------------------------------------------------\u001b[0m",
      "\u001b[1;31mModuleNotFoundError\u001b[0m                       Traceback (most recent call last)",
      "\u001b[1;32m<ipython-input-1-a509293de8e5>\u001b[0m in \u001b[0;36m<module>\u001b[1;34m()\u001b[0m\n\u001b[0;32m      1\u001b[0m \u001b[1;32mimport\u001b[0m \u001b[0mnumpy\u001b[0m \u001b[1;32mas\u001b[0m \u001b[0mnp\u001b[0m\u001b[1;33m,\u001b[0m \u001b[0mmatplotlib\u001b[0m\u001b[1;33m.\u001b[0m\u001b[0mpyplot\u001b[0m \u001b[1;32mas\u001b[0m \u001b[0mplt\u001b[0m\u001b[1;33m\u001b[0m\u001b[0m\n\u001b[0;32m      2\u001b[0m \u001b[1;32mfrom\u001b[0m \u001b[0mmatplotlib\u001b[0m\u001b[1;33m.\u001b[0m\u001b[0mpyplot\u001b[0m \u001b[1;32mimport\u001b[0m \u001b[1;33m*\u001b[0m\u001b[1;33m\u001b[0m\u001b[0m\n\u001b[1;32m----> 3\u001b[1;33m \u001b[1;32mimport\u001b[0m \u001b[0mQueue\u001b[0m\u001b[1;33m,\u001b[0m \u001b[0mpyaudio\u001b[0m\u001b[1;33m\u001b[0m\u001b[0m\n\u001b[0m\u001b[0;32m      4\u001b[0m \u001b[1;32mfrom\u001b[0m \u001b[0mscipy\u001b[0m \u001b[1;32mimport\u001b[0m \u001b[0msignal\u001b[0m\u001b[1;33m\u001b[0m\u001b[0m\n\u001b[0;32m      5\u001b[0m \u001b[1;32mfrom\u001b[0m \u001b[0mnumpy\u001b[0m \u001b[1;32mimport\u001b[0m \u001b[1;33m*\u001b[0m\u001b[1;33m\u001b[0m\u001b[0m\n",
      "\u001b[1;31mModuleNotFoundError\u001b[0m: No module named 'Queue'"
     ]
    }
   ],
   "source": [
    "import numpy as np, matplotlib.pyplot as plt\n",
    "from matplotlib.pyplot import *\n",
    "import Queue, pyaudio \n",
    "from scipy import signal\n",
    "from numpy import *\n",
    "%matplotlib inline"
   ]
  },
  {
   "cell_type": "markdown",
   "metadata": {},
   "source": [
    "## Explore the python fft function"
   ]
  },
  {
   "cell_type": "code",
   "execution_count": null,
   "metadata": {
    "collapsed": true
   },
   "outputs": [],
   "source": [
    "# Show the help for the fft function\n",
    "np.fft.fft?"
   ]
  },
  {
   "cell_type": "code",
   "execution_count": null,
   "metadata": {
    "collapsed": true
   },
   "outputs": [],
   "source": [
    "from __future__ import division\n",
    "# Create sinusoidal signal\n",
    "t = np.r_[0:2:(1/44100)]\n",
    "sig = np.sin(2*np.pi*5000*t1)\n",
    "\n",
    "# Perform FFT and create frequency axis\n",
    "sigfft = np.fft.fft(sig, 1024 )\n",
    "freq = np.r_[0:1024] # note this is not quite correct\n",
    "# the code below is interesting, but it is better to create your own frequency axis.\n",
    "# freq = np.fft.fftfreq(1024, 1/44100)\n",
    "\n",
    "# Plot the signal and its FFT\n",
    "# Plot the signal \n",
    "plt.figure()\n",
    "width, height = plt.figaspect(0.2)\n",
    "fig = plt.figure(figsize=(width,height))\n",
    "# stem plot\n",
    "plt.stem(t[0:441]*1000,sig[0:441])\n",
    "# continuous plot\n",
    "#plt.plot(t[0:441]*1000,sig[0:441])\n",
    "plt.legend((\"fs = 44.1 kHz\",\"\"))\n",
    "plt.xlabel(\"time (ms)\")\n",
    "plt.ylabel(\"Amplitude\")\n",
    "\n",
    "# Plot the FFT of the signal\n",
    "plt.figure()\n",
    "width, height = plt.figaspect(0.2)\n",
    "fig = plt.figure(figsize=(width,height))\n",
    "plt.plot(freq,abs(sigfft)/np.max(abs(sigfft)))\n",
    "plt.xlabel(\"frequency (kHz)\")\n",
    "plt.ylabel(\"Normalized Amplitude\")\n",
    "plt.legend((\"fs = 44.1 kHz\",\"\"))\n"
   ]
  },
  {
   "cell_type": "markdown",
   "metadata": {},
   "source": [
    "## Things to explain and change\n",
    "### 1. In the example above we used a stem plot. Please comment this out and uncomment the continuous plot. \n",
    "### 2. Explain briefly why the continuous plot is easier to interpret - despite the fact it is sampled and a stem plot should be ok.\n",
    "### 3. Explain why 10 ms corresponds to 441 samples\n",
    "### 4. The FFT plot has the wrong frequency axis. Please fix it by modifying the code above.\n",
    "### 5. The FFT plot of a real signal is redundant - explain.\n",
    "### 6. Modify the FFT plot so that we only show the frequencies up to the Nyquist frequency.\n",
    "### 7. Numpy provides a FFT frequency function. Comment your frequency axis code and uncomment the freq axis defined using the numpy fftfreq function. Plot the FFT using the numpy freq axis. \n",
    "### 8. Explain very, very carefully what happened with the FFT plot using the numpy fftfreq function. \n"
   ]
  },
  {
   "cell_type": "markdown",
   "metadata": {},
   "source": [
    "## Define the play_audio function"
   ]
  },
  {
   "cell_type": "code",
   "execution_count": null,
   "metadata": {
    "collapsed": true
   },
   "outputs": [],
   "source": [
    "def play_audio( Q, p, fs , dev=None):\n",
    "    # play_audio plays audio with sampling rate = fs\n",
    "    # Q - A queue object from which to play\n",
    "    # p   - pyAudio object\n",
    "    # fs  - sampling rate\n",
    "    # dev - device number\n",
    "    \n",
    "    # Example:\n",
    "    # fs = 44100\n",
    "    # p = pyaudio.PyAudio() #instantiate PyAudio\n",
    "    # Q = Queue.queue()\n",
    "    # Q.put(data)\n",
    "    # Q.put(\"EOT\") # when function gets EOT it will quit\n",
    "    # play_audio( Q, p, fs,1 ) # play audio\n",
    "    # p.terminate() # terminate pyAudio\n",
    "    \n",
    "    # open output stream\n",
    "    ostream = p.open(format=pyaudio.paFloat32, channels=1, rate=int(fs),output=True,output_device_index=dev)\n",
    "    # play audio\n",
    "    while (1):\n",
    "        data = Q.get()\n",
    "        if data is \"EOT\" :\n",
    "            break\n",
    "        try:\n",
    "            ostream.write( data.astype(np.float32).tostring() )\n",
    "        except:\n",
    "            break"
   ]
  },
  {
   "cell_type": "markdown",
   "metadata": {},
   "source": [
    "## Sample Sinusoidal Signals\n",
    "### Case 1: 5 kHz sampled with 72 kHz - this will be our reference"
   ]
  },
  {
   "cell_type": "code",
   "execution_count": null,
   "metadata": {
    "collapsed": true
   },
   "outputs": [],
   "source": [
    "from __future__ import division\n",
    "fs = [72000, 24000, 12000, 8000, 6000]\n",
    "\n",
    "# Case 1: 5 kHz sampled with 72 kHz\n",
    "# Create signal\n",
    "t1 = np.r_[0:2:(1/fs[0])]\n",
    "sig1 = np.sin(2*np.pi*5000*t1)\n",
    "\n",
    "# Perform FFT and create frequency axis\n",
    "sig1fft = np.fft.fft(sig1, 1024 )\n",
    "freq1 = np.r_[0:1024]*(fs[0]/1024)\n",
    "\n",
    "# Plot the signal \n",
    "plt.figure()\n",
    "width, height = plt.figaspect(0.2)\n",
    "fig = plt.figure(figsize=(width,height))\n",
    "plt.plot(t1[0:720]*1000,sig1[0:720])\n",
    "plt.legend((\"fs = 72 kHz\",\"\"))\n",
    "plt.xlabel(\"time (ms)\")\n",
    "plt.ylabel(\"Amplitude\")\n",
    "\n",
    "# Plot the FFT of the signal\n",
    "plt.figure()\n",
    "width, height = plt.figaspect(0.2)\n",
    "fig = plt.figure(figsize=(width,height))\n",
    "plt.plot(freq1[0:513]/1000,abs(sig1fft[0:513])/np.max(abs(sig1fft[0:513])))\n",
    "plt.xlabel(\"frequency (kHz)\")\n",
    "plt.ylabel(\"Normalized Amplitude\")\n",
    "plt.legend((\"fs = 72 kHz\",\"\"))\n",
    "plt.axis([0,10,0,1])\n",
    "plt.xticks(np.arange(0,10+1,1))"
   ]
  },
  {
   "cell_type": "markdown",
   "metadata": {},
   "source": [
    "## Play the reference signal"
   ]
  },
  {
   "cell_type": "code",
   "execution_count": null,
   "metadata": {
    "collapsed": true
   },
   "outputs": [],
   "source": [
    "Qout = Queue.Queue()\n",
    "Qout.put( sig1 );\n",
    "Qout.put( \"EOT\" );\n",
    "p = pyaudio.PyAudio()\n",
    "play_audio(Qout,p,fs[0])\n",
    "p.terminate()"
   ]
  },
  {
   "cell_type": "markdown",
   "metadata": {},
   "source": [
    "## Repeat with different sample rates and compare to the reference\n",
    "### Case 2: 5 kHz sample with 24 kHz"
   ]
  },
  {
   "cell_type": "code",
   "execution_count": null,
   "metadata": {
    "collapsed": true
   },
   "outputs": [],
   "source": [
    "from __future__ import division\n",
    "fs = [72000, 24000, 12000, 8000, 6000]\n",
    "\n",
    "# Case 1: 5 kHz sampled with 24 kHz\n",
    "# Create signal\n",
    "t2 = np.r_[0:2:(1/fs[1])]\n",
    "sig2 = np.sin(2*np.pi*5000*t2)\n",
    "\n",
    "# Perform FFT and create frequency axis\n",
    "sig2fft = np.fft.fft(sig2, 1024 )\n",
    "freq2 = np.r_[0:1024]*(fs[1]/1024)\n",
    "\n",
    "# Plot new signal and compare with the reference\n",
    "plt.figure()\n",
    "width, height = plt.figaspect(0.2)\n",
    "fig = plt.figure(figsize=(width,height))\n",
    "\n",
    "plt.plot(t1[0:720]*1000,sig1[0:720])\n",
    "plt.plot(t2[0:240]*1000,sig2[0:240])\n",
    "plt.legend((\"fs = 72 kHz\",\"fs = 24 kHz\"))\n",
    "plt.xlabel(\"time (ms)\")\n",
    "plt.ylabel(\"Amplitude\")\n",
    "\n",
    "# Plot FFT of new signal and compare with the reference\n",
    "plt.figure()\n",
    "width, height = plt.figaspect(0.2)\n",
    "fig = plt.figure(figsize=(width,height))\n",
    "plt.plot(freq1[0:513]/1000,abs(sig1fft[0:513])/np.max(abs(sig1fft[0:513])))\n",
    "plt.plot(freq2[0:513]/1000,abs(sig2fft[0:513])/np.max(abs(sig2fft[0:513])))\n",
    "plt.xlabel(\"frequency (kHz)\")\n",
    "plt.ylabel(\"Normalized Amplitude\")\n",
    "plt.legend((\"fs = 72 kHz\",\"fs = 24 kHz\"))\n",
    "plt.axis([0,10,0,1])\n",
    "plt.xticks(np.arange(0,10+1,1))\n"
   ]
  },
  {
   "cell_type": "markdown",
   "metadata": {},
   "source": [
    "## Play the new signal and the reference signal"
   ]
  },
  {
   "cell_type": "code",
   "execution_count": null,
   "metadata": {
    "collapsed": true
   },
   "outputs": [],
   "source": [
    "# Reference\n",
    "Qout = Queue.Queue()\n",
    "Qout.put( sig1 );\n",
    "Qout.put( \"EOT\" );\n",
    "p = pyaudio.PyAudio()\n",
    "play_audio(Qout,p,fs[0])\n",
    "p.terminate()"
   ]
  },
  {
   "cell_type": "code",
   "execution_count": null,
   "metadata": {
    "collapsed": true
   },
   "outputs": [],
   "source": [
    "# New \n",
    "Qout = Queue.Queue()\n",
    "Qout.put( sig2 );\n",
    "Qout.put( \"EOT\" );\n",
    "p = pyaudio.PyAudio()\n",
    "play_audio(Qout,p,fs[1])\n",
    "p.terminate()"
   ]
  },
  {
   "cell_type": "markdown",
   "metadata": {},
   "source": [
    "# Your Turn\n",
    "## Case 3:  5 kHz sampled at 12 kHz\n",
    "### Add your code below similar to case 2. \n",
    "#### Generate the new signal, compute its FFT, plot the new signal with the reference signal, plot the fft of the signal and compare with the reference signal.\n",
    "#### Play both the reference signal and the new signal. Provide a brief written explanation for what you observe."
   ]
  },
  {
   "cell_type": "code",
   "execution_count": null,
   "metadata": {
    "collapsed": true
   },
   "outputs": [],
   "source": []
  },
  {
   "cell_type": "markdown",
   "metadata": {},
   "source": [
    "## Case 4:  5 kHz sampled at 8 kHz\n",
    "### Add your code below similar to case 2. \n",
    "#### Generate the new signal, compute its FFT, plot the new signal with the reference signal, plot the fft of the signal and compare with the reference signal.\n",
    "#### Play both the reference signal and the new signal. Provide a brief written explanation for what you observe."
   ]
  },
  {
   "cell_type": "code",
   "execution_count": null,
   "metadata": {
    "collapsed": true
   },
   "outputs": [],
   "source": []
  },
  {
   "cell_type": "markdown",
   "metadata": {},
   "source": [
    "## Case 5:  5 kHz sampled at 6 kHz\n",
    "### Add your code below similar to case 2. \n",
    "#### Generate the new signal, compute its FFT, plot the new signal with the reference signal, plot the fft of the signal and compare with the reference signal.\n",
    "#### Play both the reference signal and the new signal. Provide a brief written explanation for what you observe."
   ]
  },
  {
   "cell_type": "code",
   "execution_count": null,
   "metadata": {
    "collapsed": true
   },
   "outputs": [],
   "source": []
  }
 ],
 "metadata": {
  "kernelspec": {
   "display_name": "Python 3",
   "language": "python",
   "name": "python3"
  },
  "varInspector": {
   "cols": {
    "lenName": 16,
    "lenType": 16,
    "lenVar": 40
   },
   "kernels_config": {
    "python": {
     "delete_cmd_postfix": "",
     "delete_cmd_prefix": "del ",
     "library": "var_list.py",
     "varRefreshCmd": "print(var_dic_list())"
    },
    "r": {
     "delete_cmd_postfix": ") ",
     "delete_cmd_prefix": "rm(",
     "library": "var_list.r",
     "varRefreshCmd": "cat(var_dic_list()) "
    }
   },
   "types_to_exclude": [
    "module",
    "function",
    "builtin_function_or_method",
    "instance",
    "_Feature"
   ],
   "window_display": false
  }
 },
 "nbformat": 4,
 "nbformat_minor": 2
}
